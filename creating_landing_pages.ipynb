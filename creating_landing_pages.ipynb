{
 "cells": [
  {
   "cell_type": "markdown",
   "metadata": {},
   "source": [
    "Steps in using the landing pages code"
   ]
  },
  {
   "cell_type": "markdown",
   "metadata": {},
   "source": [
    "1. Have your config file named config.json in the root folder with the following structure\n",
    "``` python\n",
    "    {\"gophish_api_key\" : \"\", # fill with your gophish key\n",
    "     \"gophish_url\" :\"https://localhost:3333\"}\n",
    "```\n",
    "2. ensure that assets folder have emails.json with \"explanations\" key."
   ]
  },
  {
   "cell_type": "markdown",
   "metadata": {},
   "source": [
    "Use the below code to generate landing page for a single user"
   ]
  },
  {
   "cell_type": "code",
   "execution_count": 5,
   "metadata": {},
   "outputs": [
    {
     "name": "stdout",
     "output_type": "stream",
     "text": [
      "Soha\n",
      "* **Generic Greeting:** The email uses a generic greeting, \"Hi Soha,\" instead of addressing the recipient by their full name.\n",
      "* **Unsolicited Contact:** The recruiter claims to have come across the recipient's resume online but does not specify where or how.\n",
      "* **Impersonal Language:** The email uses impersonal language and does not provide any specific details about the company or the position.\n",
      "* **No Specific Role or Company Information:** The email mentions the position as \"an experienced Software Engineer\" without providing a specific role or company name.\n",
      "* **Request for Phone or Video Meeting:** The recruiter asks for a phone or video meeting without providing a clear agenda or purpose for the meeting.\n",
      "* **Unusual Email Address:** The sender's email address may use a domain that is different from the company domain mentioned in the email.\n",
      "* **Lack of Company Contact Information:** The email does not provide any contact information for the company, such as a website or phone number.\n",
      "* **Generic Signature:** The signature only includes the sender's name, without any company affiliation or contact details.\n",
      "HTML updated successfully!\n"
     ]
    },
    {
     "name": "stderr",
     "output_type": "stream",
     "text": [
      "d:\\Becode\\Projects\\proximus_usecase_phishing_email\\venv\\Lib\\site-packages\\urllib3\\connectionpool.py:1097: InsecureRequestWarning: Unverified HTTPS request is being made to host 'localhost'. Adding certificate verification is strongly advised. See: https://urllib3.readthedocs.io/en/latest/advanced-usage.html#tls-warnings\n",
      "  warnings.warn(\n",
      "d:\\Becode\\Projects\\proximus_usecase_phishing_email\\venv\\Lib\\site-packages\\urllib3\\connectionpool.py:1097: InsecureRequestWarning: Unverified HTTPS request is being made to host 'localhost'. Adding certificate verification is strongly advised. See: https://urllib3.readthedocs.io/en/latest/advanced-usage.html#tls-warnings\n",
      "  warnings.warn(\n",
      "d:\\Becode\\Projects\\proximus_usecase_phishing_email\\venv\\Lib\\site-packages\\urllib3\\connectionpool.py:1097: InsecureRequestWarning: Unverified HTTPS request is being made to host 'localhost'. Adding certificate verification is strongly advised. See: https://urllib3.readthedocs.io/en/latest/advanced-usage.html#tls-warnings\n",
      "  warnings.warn(\n"
     ]
    },
    {
     "name": "stdout",
     "output_type": "stream",
     "text": [
      "Landing page created successfully: ID 9\n"
     ]
    },
    {
     "name": "stderr",
     "output_type": "stream",
     "text": [
      "d:\\Becode\\Projects\\proximus_usecase_phishing_email\\venv\\Lib\\site-packages\\urllib3\\connectionpool.py:1097: InsecureRequestWarning: Unverified HTTPS request is being made to host 'localhost'. Adding certificate verification is strongly advised. See: https://urllib3.readthedocs.io/en/latest/advanced-usage.html#tls-warnings\n",
      "  warnings.warn(\n"
     ]
    }
   ],
   "source": [
    "from landingPages.landing_pages import LandingPages\n",
    "\n",
    "lp_creator = LandingPages()\n",
    "userId=\"Soha\"\n",
    "lp_creator.create_landing_page_for_user(userId)"
   ]
  }
 ],
 "metadata": {
  "kernelspec": {
   "display_name": "venv",
   "language": "python",
   "name": "python3"
  },
  "language_info": {
   "codemirror_mode": {
    "name": "ipython",
    "version": 3
   },
   "file_extension": ".py",
   "mimetype": "text/x-python",
   "name": "python",
   "nbconvert_exporter": "python",
   "pygments_lexer": "ipython3",
   "version": "3.13.1"
  }
 },
 "nbformat": 4,
 "nbformat_minor": 2
}
