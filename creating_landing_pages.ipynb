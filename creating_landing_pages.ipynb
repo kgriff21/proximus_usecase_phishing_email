{
 "cells": [
  {
   "cell_type": "markdown",
   "metadata": {},
   "source": [
    "Steps in using the landing pages code"
   ]
  },
  {
   "cell_type": "markdown",
   "metadata": {},
   "source": [
    "1. Have your config file named config.json in the root folder with the following structure\n",
    "``` python\n",
    "    {\"gophish_api_key\" : \"\", # fill with your gophish key\n",
    "     \"gophish_url\" :\"https://localhost:3333\"}\n",
    "```\n",
    "or you can also have them saved in your .env file and access them with os.getenv(\"Key_name\")\n",
    "2. ensure that assets folder have emails.json with \"explanations\" key."
   ]
  },
  {
   "cell_type": "markdown",
   "metadata": {},
   "source": [
    "Use the below code to generate landing page for a single user"
   ]
  },
  {
   "cell_type": "code",
   "execution_count": null,
   "metadata": {},
   "outputs": [
    {
     "name": "stdout",
     "output_type": "stream",
     "text": [
      "HTML updated successfully!\n"
     ]
    },
    {
     "name": "stderr",
     "output_type": "stream",
     "text": [
      "d:\\Becode\\Projects\\proximus_usecase_phishing_email\\venv\\Lib\\site-packages\\urllib3\\connectionpool.py:1097: InsecureRequestWarning: Unverified HTTPS request is being made to host 'localhost'. Adding certificate verification is strongly advised. See: https://urllib3.readthedocs.io/en/latest/advanced-usage.html#tls-warnings\n",
      "  warnings.warn(\n"
     ]
    },
    {
     "name": "stdout",
     "output_type": "stream",
     "text": [
      "Landing page created successfully: ID 2\n"
     ]
    },
    {
     "name": "stderr",
     "output_type": "stream",
     "text": [
      "d:\\Becode\\Projects\\proximus_usecase_phishing_email\\venv\\Lib\\site-packages\\urllib3\\connectionpool.py:1097: InsecureRequestWarning: Unverified HTTPS request is being made to host 'localhost'. Adding certificate verification is strongly advised. See: https://urllib3.readthedocs.io/en/latest/advanced-usage.html#tls-warnings\n",
      "  warnings.warn(\n"
     ]
    }
   ],
   "source": [
    "from landingPages.landing_pages import LandingPages\n",
    "\n",
    "lp_creator = LandingPages()\n",
    "userId=\"Soha\"\n",
    "'''\n",
    "I have used config file to create the api.\n",
    "If you are using with dotenv and have firs your gophish api\n",
    "comment the steps of creating api and directly proceed with\n",
    "create_landing_page_for_user\n",
    "Then call the function\n",
    "'''\n",
    "api = lp_creator.init_gophish_api()\n",
    "if api is None:\n",
    "    print(f'error in itialising api for gophish')\n",
    "    exit()\n",
    "lp_creator.create_landing_page_for_user(api, userId)"
   ]
  }
 ],
 "metadata": {
  "kernelspec": {
   "display_name": "venv",
   "language": "python",
   "name": "python3"
  },
  "language_info": {
   "codemirror_mode": {
    "name": "ipython",
    "version": 3
   },
   "file_extension": ".py",
   "mimetype": "text/x-python",
   "name": "python",
   "nbconvert_exporter": "python",
   "pygments_lexer": "ipython3",
   "version": "3.13.1"
  }
 },
 "nbformat": 4,
 "nbformat_minor": 2
}
