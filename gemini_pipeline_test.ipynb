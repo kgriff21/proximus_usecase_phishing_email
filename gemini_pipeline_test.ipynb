{
 "cells": [
  {
   "cell_type": "code",
   "execution_count": 2,
   "metadata": {},
   "outputs": [],
   "source": [
    "# Import the Python SDK\n",
    "import google.generativeai as genai # type: ignore\n",
    "import json\n",
    "import os\n",
    "\n",
    "# Load the JSON file\n",
    "config_file = \"./assets/config.json\"  # Replace with your JSON file's name if different\n",
    "if os.path.exists(config_file):\n",
    "    with open(config_file, \"r\") as file:\n",
    "        config = json.load(file)\n",
    "        GEMINI_API_KEY = config.get(\"GEMINI_API_KEY\")\n",
    "else:\n",
    "    raise FileNotFoundError(f\"Configuration file '{config_file}' not found.\")\n",
    "\n",
    "genai.configure(api_key=GEMINI_API_KEY)"
   ]
  },
  {
   "cell_type": "code",
   "execution_count": 4,
   "metadata": {},
   "outputs": [],
   "source": [
    "model = genai.GenerativeModel('gemini-pro')"
   ]
  },
  {
   "cell_type": "code",
   "execution_count": 13,
   "metadata": {},
   "outputs": [
    {
     "name": "stdout",
     "output_type": "stream",
     "text": [
      "Hi John,\n",
      "\n",
      "I hope this email finds you well.\n",
      "\n",
      "I'm reaching out to you today regarding our upcoming meeting about the Proximus project. I understand that you're an Analyst at the company, so I'm confident that you'll be able to provide valuable insights.\n",
      "\n",
      "In the meantime, I wanted to share some information that I think you might find interesting. I know that you're a Netflix subscriber, so I thought you might appreciate these exclusive promotions that I've attached.\n",
      "\n",
      "I also noticed that you enjoy hiking and listening to music. I've included some links to local hiking trails and music streaming services that you might enjoy.\n",
      "\n",
      "I'm looking forward to meeting you soon and discussing the Proximus project in more detail.\n",
      "\n",
      "Best regards,\n",
      "\n",
      "[Your Name]\n",
      "Meeting Request for Proximus Project with Exclusive Perks\n",
      "* **The sender's email address is not from a legitimate company.** The email is from \"john@example.com,\" which is not a valid email address for a Proximus employee.\n",
      "* **The email contains phishing links.** The email contains links to Netflix, Spotify, and other websites that are not related to the Proximus project.\n",
      "* **The email is trying to collect personal information.** The email asks you to provide your name, email address, and other personal information.\n",
      "* **The email is using pressure tactics.** The email says that you need to provide your information immediately, or you will miss out on the exclusive promotions.\n",
      "* **The email is not from a trusted source.** You do not know the sender, and you have no reason to believe that they are legitimate.\n"
     ]
    }
   ],
   "source": [
    "details={\n",
    "\"name\":\"John\",\n",
    "\"company\":\"Proximus\",\n",
    "\"role\":\"Analyst\",\n",
    "\"context\":\"meeting\",\n",
    "\"subscriptions\":\"Netflix\",\n",
    "\"hobbies\":[\"hiking\",\"listening to music\"]}\n",
    "phish_prompt=f\"5 Personalized subject lines can be used to phish a person with the details: {details} that don't need me to modify anything\"\n",
    "p2=f\"Personalized email body only that can be used to phish a person with the details: {details} that don't need me to modify anything no subject\"\n",
    "response = model.generate_content(p2)\n",
    "body=response.text\n",
    "p3=f\"Write a subject line for {body}\"\n",
    "response = model.generate_content(p3)\n",
    "subject=response.text\n",
    "p4=f\"Reasons why this is a phishing email{body}\"\n",
    "response=model.generate_content(p4)\n",
    "explanation=response.text\n",
    "print(body)\n",
    "print(subject)\n",
    "print(explanation)"
   ]
  },
  {
   "cell_type": "code",
   "execution_count": null,
   "metadata": {},
   "outputs": [],
   "source": [
    "employee_file = \"./assets/EmployeeInfo.json\"  # Replace with your JSON file's name if different\n",
    "if os.path.exists(employee_file):\n",
    "    with open(employee_file, \"r\") as file:\n",
    "        details = json.load(file)\n",
    "        for employee in details:\n",
    "           body_prompt=f\"Personalized email body that can be used to phish a person with the details: {employee} without any blanks and no subject\"\n",
    "           response=model.generate_content(body_prompt) \n",
    "           employee[\"body\"]=response.text\n",
    "           subject_prompt=f\"Write a subject line for {employee[\"body\"]}\"\n",
    "           response = model.generate_content(subject_prompt)\n",
    "           employee[\"subject\"]=response.text\n",
    "           explanation_prompt=f\"Reasons why this is a phishing email{employee[\"body\"]}\"\n",
    "           response=model.generate_content(explanation_prompt)\n",
    "           employee[\"explanation\"]=response.text\n",
    "\n",
    "with open('./assets/emails.json', 'w', encoding ='utf8') as json_file:\n",
    "\n",
    "    json.dump(details,json_file)"
   ]
  },
  {
   "cell_type": "code",
   "execution_count": 3,
   "metadata": {},
   "outputs": [
    {
     "data": {
      "text/plain": [
       "True"
      ]
     },
     "execution_count": 3,
     "metadata": {},
     "output_type": "execute_result"
    }
   ],
   "source": [
    "from dotenv import load_dotenv\n",
    "load_dotenv() "
   ]
  }
 ],
 "metadata": {
  "kernelspec": {
   "display_name": ".venv",
   "language": "python",
   "name": "python3"
  },
  "language_info": {
   "codemirror_mode": {
    "name": "ipython",
    "version": 3
   },
   "file_extension": ".py",
   "mimetype": "text/x-python",
   "name": "python",
   "nbconvert_exporter": "python",
   "pygments_lexer": "ipython3",
   "version": "3.12.6"
  }
 },
 "nbformat": 4,
 "nbformat_minor": 2
}
