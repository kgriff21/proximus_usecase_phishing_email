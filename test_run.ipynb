{
 "cells": [
  {
   "cell_type": "code",
   "execution_count": null,
   "metadata": {},
   "outputs": [
    {
     "ename": "",
     "evalue": "",
     "output_type": "error",
     "traceback": [
      "\u001b[1;31mRunning cells with '.venv (Python 3.12.6)' requires the ipykernel package.\n",
      "\u001b[1;31mRun the following command to install 'ipykernel' into the Python environment. \n",
      "\u001b[1;31mCommand: 'c:/Users/becod/Documents/GitHub/proximus_usecase_phishing_email/.venv/Scripts/python.exe -m pip install ipykernel -U --force-reinstall'"
     ]
    }
   ],
   "source": [
    "from dotenv import load_dotenv\n",
    "import os\n",
    "from gophish_constructor import GophishWrapper\n",
    "\n",
    "# Load environment variables from the .env file\n",
    "load_dotenv()\n",
    "\n",
    "# Extract the Gophish API URL and API key from environment variables\n",
    "api_url = os.getenv('GOPHISH_API_URL')\n",
    "api_key = os.getenv('GOPHISH_API_KEY')\n",
    "\n",
    "# Initialize the GophishWrapper with the API URL and key\n",
    "gophish = GophishWrapper(api_url, api_key)\n",
    "\n",
    "# Step 1: Create a phishing template (HTML & text)\n",
    "html = \"\"\"\n",
    "<html>\n",
    "  <body>\n",
    "    <h1>Security Alert!</h1>\n",
    "    <p>Your account has been compromised! <a href=\"https://www.youtube.com/watch?v=t9VyrSxA2Nk\">Click here</a> to reset your password immediately.</p>\n",
    "  </body>\n",
    "</html>\n",
    "\"\"\"\n",
    "text = \"Security Alert! Your account has been compromised. Visit https://www.youtube.com/watch?v=t9VyrSxA2Nk to reset your password.\"\n",
    "\n",
    "# Create a new template with the provided HTML and text\n",
    "template_response = gophish.create_template(\"Phishing Template\", html, text)\n",
    "\n",
    "if template_response:\n",
    "    print(\"Template created successfully.\")\n",
    "    template_id = template_response['id']  # Save the ID of the newly created template\n",
    "\n",
    "    # Step 2: Create a phishing campaign using the template\n",
    "    campaign_name = \"troll kelli\"\n",
    "    phishing_url = \"https://www.youtube.com/watch?v=t9VyrSxA2Nk\"\n",
    "    from_address = \"angus.mccloud@gmail.com\"\n",
    "    email_subject = \"Urgent: Security Alert\"\n",
    "\n",
    "    campaign_response = gophish.create_campaign(campaign_name, template_id, phishing_url, from_address, email_subject)\n",
    "\n",
    "    if campaign_response:\n",
    "        print(f\"Campaign '{campaign_name}' created successfully.\")\n",
    "        campaign_id = campaign_response['id']  # Save the campaign ID\n",
    "\n",
    "        # Step 3: Get the campaign results to monitor performance\n",
    "        campaign_results = gophish.get_campaign_results(campaign_id)\n",
    "        if campaign_results:\n",
    "            print(\"Campaign results retrieved successfully:\")\n",
    "            print(campaign_results)\n",
    "        else:\n",
    "            print(\"Error retrieving campaign results.\")\n",
    "\n",
    "        # Optionally, get a detailed report of the campaign\n",
    "        campaign_report = gophish.get_campaign_report(campaign_id)\n",
    "        if campaign_report:\n",
    "            print(\"Campaign report retrieved successfully:\")\n",
    "            print(campaign_report)\n",
    "        else:\n",
    "            print(\"Error retrieving campaign report.\")\n",
    "    else:\n",
    "        print(\"Failed to create the campaign.\")\n",
    "else:\n",
    "    print(\"Failed to create the template.\")\n",
    "\n"
   ]
  }
 ],
 "metadata": {
  "kernelspec": {
   "display_name": ".venv",
   "language": "python",
   "name": "python3"
  },
  "language_info": {
   "name": "python",
   "version": "3.12.6"
  }
 },
 "nbformat": 4,
 "nbformat_minor": 2
}
