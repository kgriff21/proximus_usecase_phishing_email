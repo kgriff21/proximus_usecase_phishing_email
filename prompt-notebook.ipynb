{
 "cells": [
  {
   "cell_type": "markdown",
   "metadata": {},
   "source": [
    "pip install -q -U google-generativeai <br>\n",
    "pip install python-dotenv"
   ]
  },
  {
   "cell_type": "code",
   "execution_count": 72,
   "metadata": {},
   "outputs": [],
   "source": [
    "# Import the Python SDK\n",
    "import google.generativeai as genai  # type: ignore\n",
    "from dotenv import load_dotenv\n",
    "import os\n",
    "import json\n",
    "import random\n",
    "\n",
    "# Load environment variables from the .env file\n",
    "load_dotenv()\n",
    "\n",
    "# Access the API key\n",
    "GEMINI_API_KEY = os.getenv(\"GEMINI_API_KEY\")\n",
    "\n",
    "genai.configure(api_key=GEMINI_API_KEY)\n",
    "\n",
    "## Initialize the Generative Model\n",
    "model = genai.GenerativeModel('gemini-pro')"
   ]
  },
  {
   "cell_type": "code",
   "execution_count": 73,
   "metadata": {},
   "outputs": [],
   "source": [
    "# Load employees from a JSON file\n",
    "employees_file = \"assets/EmployeeInfo.json\"\n",
    "if os.path.exists(employees_file):\n",
    "    with open(employees_file, \"r\") as file:\n",
    "        employees = json.load(file)\n",
    "else:\n",
    "    raise FileNotFoundError(f\"Employee file '{employees_file}' not found.\")\n"
   ]
  },
  {
   "cell_type": "code",
   "execution_count": 54,
   "metadata": {},
   "outputs": [],
   "source": [
    "# Example phishing parameters\n",
    "phishing_examples = [\n",
    "    {\"Reason\": \"Account Suspicious Activity\", \"Fake Link\": \"https://example.com/secure-login\", \"Created By\": \"Sam Sussy\"},\n",
    "    {\"Reason\": \"Password Expiry Notification\", \"Fake Link\": \"https://example.com/reset-password\", \"Created By\": \"Sally Sneaky\"},\n",
    "    {\"Reason\": \"Exclusive Training Webinar\", \"Fake Link\": \"https://example.com/join-webinar\", \"Created By\": \"Richard Rascal\"},\n",
    "    {\"Reason\": \"Email Storage Full\", \"Fake Link\": \"https://example.com/manage-storage\", \"Created By\": \"Bernard Bandit\"}\n",
    "]"
   ]
  },
  {
   "cell_type": "code",
   "execution_count": 74,
   "metadata": {},
   "outputs": [
    {
     "name": "stdout",
     "output_type": "stream",
     "text": [
      "{'Reason': 'Important Security Update', 'Fake Link': 'https://example.com/secure-login', 'Created By': 'Sally Sneaky'}\n",
      "{'Reason': 'System Maintenance Notification', 'Fake Link': 'https://example.com/policy-update', 'Created By': 'Bernard Bandit'}\n",
      "{'Reason': 'Account Suspicious Activity', 'Fake Link': 'https://example.com/confirm-identity', 'Created By': 'Tim Tricky'}\n",
      "{'Reason': 'Exclusive Training Webinar', 'Fake Link': 'https://example.com/reset-password', 'Created By': 'Bernard Bandit'}\n",
      "{'Reason': 'Important Security Update', 'Fake Link': 'https://example.com/manage-storage', 'Created By': 'Sally Sneaky'}\n",
      "{'Reason': 'Email Storage Full', 'Fake Link': 'https://example.com/join-webinar', 'Created By': 'Sally Sneaky'}\n",
      "{'Reason': 'Important Security Update', 'Fake Link': 'https://example.com/policy-update', 'Created By': 'Bernard Bandit'}\n",
      "{'Reason': 'Exclusive Training Webinar', 'Fake Link': 'https://example.com/join-webinar', 'Created By': 'Sally Sneaky'}\n",
      "{'Reason': 'Email Storage Full', 'Fake Link': 'https://example.com/manage-storage', 'Created By': 'Sally Sneaky'}\n",
      "{'Reason': 'Password Expiry Notification', 'Fake Link': 'https://example.com/reset-password', 'Created By': 'Sally Sneaky'}\n"
     ]
    }
   ],
   "source": [
    "# Predefined lists of components for phishing examples\n",
    "reasons = [\n",
    "    \"Account Suspicious Activity\",\n",
    "    \"Password Expiry Notification\",\n",
    "    \"Exclusive Training Webinar\",\n",
    "    \"Email Storage Full\",\n",
    "    \"Important Security Update\",\n",
    "    \"New Policy Acknowledgment Required\",\n",
    "    \"Urgent Billing Issue\",\n",
    "    \"System Maintenance Notification\"\n",
    "]\n",
    "\n",
    "fake_domains = [\n",
    "    \"secure-login\", \"reset-password\", \"join-webinar\", \"manage-storage\",\n",
    "    \"update-profile\", \"confirm-identity\", \"billing-alert\", \"policy-update\"\n",
    "]\n",
    "\n",
    "creators = [\"Sam Sussy\", \"Sally Sneaky\", \"Richard Rascal\", \"Bernard Bandit\", \n",
    "            \"Tim Tricky\", \"Nancy Notorious\", \"Fred Fraudster\", \"Holly Hoaxer\"]\n",
    "\n",
    "# Base domain for fake links\n",
    "base_domain = \"https://example.com/\"\n",
    "\n",
    "# Function to generate random phishing examples\n",
    "def generate_phishing_examples(num_examples=5):\n",
    "    phishing_examples = []\n",
    "    for _ in range(num_examples):\n",
    "        reason = random.choice(reasons)\n",
    "        fake_link = base_domain + random.choice(fake_domains)\n",
    "        created_by = random.choice(creators)\n",
    "        phishing_examples.append({\n",
    "            \"Reason\": reason,\n",
    "            \"Fake Link\": fake_link,\n",
    "            \"Created By\": created_by\n",
    "        })\n",
    "    return phishing_examples\n",
    "\n",
    "# Generate a dynamic list of phishing examples\n",
    "phishing_examples = generate_phishing_examples(10)\n",
    "\n",
    "# Print the generated examples\n",
    "for example in phishing_examples:\n",
    "    print(example)\n"
   ]
  },
  {
   "cell_type": "code",
   "execution_count": 75,
   "metadata": {},
   "outputs": [
    {
     "name": "stdout",
     "output_type": "stream",
     "text": [
      "Subject: Important AI Policy Updates for Proximus Ada\n",
      "\n",
      "Hi BenoÃ®t,\n",
      "\n",
      "As the Head of AI at Proximus Ada, you play a vital role in shaping the future of AI within the organization. To support you in this, we have released some updates to our AI policy that you may find valuable: https://example.com/policy-update\n",
      "\n",
      "Please take some time to review these updates and ensure that your team is compliant. This will help align Proximus Ada's AI practices with industry best practices and ethical guidelines.\n",
      "\n",
      "Thank you for your attention to this matter.\n"
     ]
    }
   ],
   "source": [
    "# Function to generate a modular prompt\n",
    "def generate_prompt(employee, random_pick):\n",
    "    return f\"\"\"\n",
    "    Write a concise and professional email from {random_pick['Created By']} to {employee['FirstName']} {employee['LastName']} from the {employee['Role']} team.\n",
    "    Focus on the theme of their role as a {employee['Role']}.\n",
    "    Include this link: {random_pick['Fake Link']} for a specific call to action related to their role.\n",
    "    The email should be brief, similar in length to the following example:\n",
    "    \"Hello [Name],\n",
    "    We have rolled out new features on the analytics dashboard to enhance data analysis efficiency. Please review these updates and confirm functionality by accessing the following link:\n",
    "    [Review Dashboard Features Here]\n",
    "    Thank you,\n",
    "    Data Analytics Team\"\n",
    "    Maintain a professional tone, avoid urgency, and ensure the link is prominent but natural.\n",
    "    Only provide the body of the email, no subject or signature.\n",
    "    \"\"\"\n",
    "\n",
    "# Generate a phishing email for a randomly selected employee\n",
    "random_employee = random.choice(employees)\n",
    "random_pick = random.choice(phishing_examples)\n",
    "prompt = generate_prompt(random_employee, random_pick)\n",
    "\n",
    "# API call to generate the email body\n",
    "body_response = model.generate_content(prompt)\n",
    "email_body = body_response.text\n",
    "\n",
    "# API call to generate the email subject line\n",
    "subject_prompt = f\"Write a compelling, realistic email subject line for the following email:\\n{email_body}\"\n",
    "subject_response = model.generate_content(subject_prompt)\n",
    "email_subject = subject_response.text\n",
    "\n",
    "# Output the generated email\n",
    "print(\"Subject:\", email_subject)\n",
    "print(\"\\n\"  + email_body)\n",
    "   "
   ]
  },
  {
   "cell_type": "code",
   "execution_count": 82,
   "metadata": {},
   "outputs": [],
   "source": [
    "# Dynamic explanation generator\n",
    "def generate_explanation(employee, random_pick):\n",
    "    explanation = (\n",
    "        f\"* **Generic Greeting:** The email uses 'Hi {employee['FirstName']}' instead of a more formal address with a last name, \"\n",
    "        \"which is common in phishing emails.\\n\"\n",
    "        \"* **Unsolicited Contact:** Claims to address the recipient about a topic ({random_pick['Reason']}) without prior interaction.\\n\"\n",
    "        f\"* **Unverified Company Name:** The sender, {random_pick['Created By']}, is not recognizable, raising suspicions.\\n\"\n",
    "        f\"* **Suspicious Link:** The link ({random_pick['Fake Link']}) does not correspond to a trusted company domain and could lead to a phishing site.\\n\"\n",
    "        \"* **Pressure to Act:** Encourages the recipient to review or act quickly, creating subtle urgency.\\n\"\n",
    "        \"* **Vague Context:** Does not provide specific, verifiable details about the supposed issue or request.\"\n",
    "    )\n",
    "    return explanation\n",
    "\n",
    "# Function to generate phishing email JSON data for employees\n",
    "def generate_phishing_emails(employees, model, num_examples=5):\n",
    " \n",
    "    phishing_emails = []\n",
    "    for employee in employees:\n",
    "        for _ in range(num_examples):\n",
    "           \n",
    "            random_pick = random.choice(phishing_examples)\n",
    "            prompt = generate_prompt(employee, random_pick)\n",
    "\n",
    "            # Generate email body using the model\n",
    "            body_response = model.generate_content(prompt)\n",
    "            email_body = body_response.text\n",
    "\n",
    "            # Generate email subject using the model\n",
    "            subject_prompt = f\"Write a compelling, realistic email subject line for the following email:\\n{email_body}\"\n",
    "            subject_response = model.generate_content(subject_prompt)\n",
    "            email_subject = subject_response.text\n",
    "\n",
    "            explanation = generate_explanation(employee, random_pick)\n",
    "\n",
    "            phishing_email = {\n",
    "                \"FirstName\": employee[\"FirstName\"],\n",
    "                \"LastName\": employee[\"LastName\"],\n",
    "                \"Role\": employee[\"Role\"],\n",
    "                \"Email\": employee[\"Email\"],\n",
    "                \"body\": email_body,\n",
    "                \"subject\": email_subject,\n",
    "                \"explanation\": explanation\n",
    "            }\n",
    "\n",
    "            phishing_emails.append(phishing_email)\n",
    "\n",
    "    return phishing_emails"
   ]
  },
  {
   "cell_type": "code",
   "execution_count": 81,
   "metadata": {},
   "outputs": [
    {
     "name": "stdout",
     "output_type": "stream",
     "text": [
      "Phishing emails saved to phishing_emails.json\n"
     ]
    }
   ],
   "source": [
    "\n",
    "phishing_emails = generate_phishing_emails(employees, model, num_examples=1)\n",
    "\n",
    "# Save the generated emails to a JSON file\n",
    "output_file = \"phishing_emails.json\"\n",
    "with open(output_file, \"w\") as file:\n",
    "    json.dump(phishing_emails, file, indent=4)\n",
    "\n",
    "print(f\"Phishing emails saved to {output_file}\")"
   ]
  }
 ],
 "metadata": {
  "kernelspec": {
   "display_name": "venv",
   "language": "python",
   "name": "python3"
  },
  "language_info": {
   "name": "python",
   "version": "3.12.4"
  }
 },
 "nbformat": 4,
 "nbformat_minor": 2
}
